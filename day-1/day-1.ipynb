{
 "cells": [
  {
   "cell_type": "markdown",
   "metadata": {},
   "source": [
    "# Introduction\n",
    "This notebook contains the steps to complete day 1 of Dashboarding with Notebooks tutorial by Rachael Tatman at Kaggle (https://www.kaggle.com/rtatman/dashboarding-with-notebooks-day-1)."
   ]
  },
  {
   "cell_type": "markdown",
   "metadata": {},
   "source": [
    "# Dataset selection\n",
    "This tutorial will be completed using data from the Meta Kaggle dataset (described and available for download here: https://www.kaggle.com/kaggle/meta-kaggle). This dataset is a nice combination of interesting and easy to work with - perhaps unsurprisingly, Kaggle maintains their datasets well."
   ]
  },
  {
   "cell_type": "markdown",
   "metadata": {},
   "source": [
    "# Data preparation\n",
    "The Meta Kaggle dataset is downloaded and read into pandas.DataFrame.\n",
    "\n",
    "## Download\n",
    "Download the data using the Kaggle API and unzip."
   ]
  },
  {
   "cell_type": "code",
   "execution_count": 1,
   "metadata": {},
   "outputs": [],
   "source": [
    "# Download and unzip data."
   ]
  },
  {
   "cell_type": "markdown",
   "metadata": {},
   "source": [
    "## Read\n",
    "Read the data files."
   ]
  },
  {
   "cell_type": "code",
   "execution_count": 2,
   "metadata": {},
   "outputs": [],
   "source": [
    "from pathlib import Path  # Easy-to-use, cross-platform path-to-file.\n",
    "\n",
    "import numpy as np\n",
    "import pandas as pd"
   ]
  },
  {
   "cell_type": "code",
   "execution_count": 3,
   "metadata": {},
   "outputs": [
    {
     "name": "stdout",
     "output_type": "stream",
     "text": [
      "KernelVersionDatasetSources.csv\n",
      "UserOrganizations.csv\n",
      "TeamMemberships.csv\n",
      "KernelVersionKernelSources.csv\n",
      "Competitions.csv\n",
      "KernelVersions.csv\n",
      "ForumMessageVotes.csv\n",
      ".DS_Store\n",
      "DatasourceObjects.csv\n",
      "Teams.csv\n",
      "Datasets.csv\n",
      "ForumMessages.csv\n",
      "KernelTags.csv\n",
      "DatasourceVersionObjectTables.csv\n",
      "Users.csv\n",
      "ForumTopics.csv\n",
      "UserAchievements.csv\n",
      "Forums.csv\n",
      "KernelVersionOutputFiles.csv\n",
      "DatasetTags.csv\n",
      "Tags.csv\n",
      "Submissions.csv\n",
      "KernelVersionCompetitionSources.csv\n",
      "Organizations.csv\n",
      "Kernels.csv\n",
      "KernelVotes.csv\n",
      "UserFollowers.csv\n",
      "DatasetVersions.csv\n",
      "KernelLanguages.csv\n",
      "Datasources.csv\n",
      "DatasetVotes.csv\n",
      "CompetitionTags.csv\n"
     ]
    }
   ],
   "source": [
    "path_to_data = Path('../input/meta-kaggle')\n",
    "path_to_file = [p for p in path_to_data.glob('**/*')]  # List of filepaths.\n",
    "\n",
    "# Print filenames.\n",
    "for p in path_to_file:\n",
    "    print(p.name)"
   ]
  },
  {
   "cell_type": "markdown",
   "metadata": {},
   "source": [
    "This notebook will focus on the competitions and users data. "
   ]
  },
  {
   "cell_type": "code",
   "execution_count": 4,
   "metadata": {},
   "outputs": [
    {
     "data": {
      "text/html": [
       "<div>\n",
       "<style scoped>\n",
       "    .dataframe tbody tr th:only-of-type {\n",
       "        vertical-align: middle;\n",
       "    }\n",
       "\n",
       "    .dataframe tbody tr th {\n",
       "        vertical-align: top;\n",
       "    }\n",
       "\n",
       "    .dataframe thead th {\n",
       "        text-align: right;\n",
       "    }\n",
       "</style>\n",
       "<table border=\"1\" class=\"dataframe\">\n",
       "  <thead>\n",
       "    <tr style=\"text-align: right;\">\n",
       "      <th></th>\n",
       "      <th>Id</th>\n",
       "      <th>UserName</th>\n",
       "      <th>DisplayName</th>\n",
       "      <th>RegisterDate</th>\n",
       "      <th>PerformanceTier</th>\n",
       "    </tr>\n",
       "  </thead>\n",
       "  <tbody>\n",
       "    <tr>\n",
       "      <th>0</th>\n",
       "      <td>1</td>\n",
       "      <td>kaggleteam</td>\n",
       "      <td>Kaggle Team</td>\n",
       "      <td>2011-03-24</td>\n",
       "      <td>5</td>\n",
       "    </tr>\n",
       "    <tr>\n",
       "      <th>1</th>\n",
       "      <td>368</td>\n",
       "      <td>antgoldbloom</td>\n",
       "      <td>Anthony Goldbloom</td>\n",
       "      <td>2010-01-20</td>\n",
       "      <td>5</td>\n",
       "    </tr>\n",
       "    <tr>\n",
       "      <th>2</th>\n",
       "      <td>381</td>\n",
       "      <td>iguyon</td>\n",
       "      <td>Isabelle</td>\n",
       "      <td>2010-01-29</td>\n",
       "      <td>2</td>\n",
       "    </tr>\n",
       "    <tr>\n",
       "      <th>3</th>\n",
       "      <td>385</td>\n",
       "      <td>demonjosh</td>\n",
       "      <td>Demon Josh</td>\n",
       "      <td>2010-02-02</td>\n",
       "      <td>0</td>\n",
       "    </tr>\n",
       "    <tr>\n",
       "      <th>4</th>\n",
       "      <td>387</td>\n",
       "      <td>nicholasgruen</td>\n",
       "      <td>Nicholas Gruen</td>\n",
       "      <td>2010-02-02</td>\n",
       "      <td>0</td>\n",
       "    </tr>\n",
       "  </tbody>\n",
       "</table>\n",
       "</div>"
      ],
      "text/plain": [
       "    Id       UserName        DisplayName RegisterDate  PerformanceTier\n",
       "0    1     kaggleteam        Kaggle Team   2011-03-24                5\n",
       "1  368   antgoldbloom  Anthony Goldbloom   2010-01-20                5\n",
       "2  381         iguyon           Isabelle   2010-01-29                2\n",
       "3  385      demonjosh         Demon Josh   2010-02-02                0\n",
       "4  387  nicholasgruen     Nicholas Gruen   2010-02-02                0"
      ]
     },
     "execution_count": 4,
     "metadata": {},
     "output_type": "execute_result"
    }
   ],
   "source": [
    "# Load users data.\n",
    "users = pd.read_csv(path_to_data / 'Users.csv', parse_dates=['RegisterDate'], dayfirst=False)\n",
    "users.head()"
   ]
  },
  {
   "cell_type": "code",
   "execution_count": 5,
   "metadata": {},
   "outputs": [
    {
     "data": {
      "text/html": [
       "<div>\n",
       "<style scoped>\n",
       "    .dataframe tbody tr th:only-of-type {\n",
       "        vertical-align: middle;\n",
       "    }\n",
       "\n",
       "    .dataframe tbody tr th {\n",
       "        vertical-align: top;\n",
       "    }\n",
       "\n",
       "    .dataframe thead th {\n",
       "        text-align: right;\n",
       "    }\n",
       "</style>\n",
       "<table border=\"1\" class=\"dataframe\">\n",
       "  <thead>\n",
       "    <tr style=\"text-align: right;\">\n",
       "      <th></th>\n",
       "      <th>Id</th>\n",
       "      <th>Slug</th>\n",
       "      <th>Title</th>\n",
       "      <th>Subtitle</th>\n",
       "      <th>HostSegmentTitle</th>\n",
       "      <th>ForumId</th>\n",
       "      <th>OrganizationId</th>\n",
       "      <th>CompetitionTypeId</th>\n",
       "      <th>HostName</th>\n",
       "      <th>EnabledDate</th>\n",
       "      <th>...</th>\n",
       "      <th>EnableSubmissionModelHashes</th>\n",
       "      <th>EnableSubmissionModelAttachments</th>\n",
       "      <th>RewardType</th>\n",
       "      <th>RewardQuantity</th>\n",
       "      <th>NumPrizes</th>\n",
       "      <th>UserRankMultiplier</th>\n",
       "      <th>CanQualifyTiers</th>\n",
       "      <th>TotalTeams</th>\n",
       "      <th>TotalCompetitors</th>\n",
       "      <th>TotalSubmissions</th>\n",
       "    </tr>\n",
       "  </thead>\n",
       "  <tbody>\n",
       "    <tr>\n",
       "      <th>0</th>\n",
       "      <td>2408</td>\n",
       "      <td>Eurovision2010</td>\n",
       "      <td>Forecast Eurovision Voting</td>\n",
       "      <td>This competition requires contestants to forec...</td>\n",
       "      <td>Featured</td>\n",
       "      <td>2.0</td>\n",
       "      <td>NaN</td>\n",
       "      <td>1</td>\n",
       "      <td>NaN</td>\n",
       "      <td>2010-04-07 07:57:43</td>\n",
       "      <td>...</td>\n",
       "      <td>False</td>\n",
       "      <td>False</td>\n",
       "      <td>USD</td>\n",
       "      <td>1000.0</td>\n",
       "      <td>1</td>\n",
       "      <td>1.0</td>\n",
       "      <td>False</td>\n",
       "      <td>22</td>\n",
       "      <td>25</td>\n",
       "      <td>22</td>\n",
       "    </tr>\n",
       "    <tr>\n",
       "      <th>1</th>\n",
       "      <td>8910</td>\n",
       "      <td>blg-454e-term-project-competition</td>\n",
       "      <td>BLG 454E Term Project Competition</td>\n",
       "      <td>ITU Computer and Informatics Faculty, BLG 454E...</td>\n",
       "      <td>InClass</td>\n",
       "      <td>24780.0</td>\n",
       "      <td>NaN</td>\n",
       "      <td>1</td>\n",
       "      <td>NaN</td>\n",
       "      <td>2018-03-17 19:08:56</td>\n",
       "      <td>...</td>\n",
       "      <td>False</td>\n",
       "      <td>False</td>\n",
       "      <td>NaN</td>\n",
       "      <td>0.0</td>\n",
       "      <td>0</td>\n",
       "      <td>0.0</td>\n",
       "      <td>False</td>\n",
       "      <td>29</td>\n",
       "      <td>65</td>\n",
       "      <td>658</td>\n",
       "    </tr>\n",
       "    <tr>\n",
       "      <th>2</th>\n",
       "      <td>8916</td>\n",
       "      <td>test-xx</td>\n",
       "      <td>test-xx</td>\n",
       "      <td>this is a test</td>\n",
       "      <td>InClass</td>\n",
       "      <td>24867.0</td>\n",
       "      <td>NaN</td>\n",
       "      <td>1</td>\n",
       "      <td>NaN</td>\n",
       "      <td>2018-03-18 11:52:38</td>\n",
       "      <td>...</td>\n",
       "      <td>False</td>\n",
       "      <td>False</td>\n",
       "      <td>NaN</td>\n",
       "      <td>0.0</td>\n",
       "      <td>0</td>\n",
       "      <td>0.0</td>\n",
       "      <td>False</td>\n",
       "      <td>0</td>\n",
       "      <td>0</td>\n",
       "      <td>7</td>\n",
       "    </tr>\n",
       "    <tr>\n",
       "      <th>3</th>\n",
       "      <td>8933</td>\n",
       "      <td>recsys-20181-cfmr</td>\n",
       "      <td>RecSys 2018/1: Collaborative Movie Recommendation</td>\n",
       "      <td>Predict users' ratings for movies</td>\n",
       "      <td>InClass</td>\n",
       "      <td>25077.0</td>\n",
       "      <td>NaN</td>\n",
       "      <td>1</td>\n",
       "      <td>NaN</td>\n",
       "      <td>2018-03-19 15:34:50</td>\n",
       "      <td>...</td>\n",
       "      <td>False</td>\n",
       "      <td>False</td>\n",
       "      <td>NaN</td>\n",
       "      <td>0.0</td>\n",
       "      <td>0</td>\n",
       "      <td>0.0</td>\n",
       "      <td>False</td>\n",
       "      <td>27</td>\n",
       "      <td>28</td>\n",
       "      <td>737</td>\n",
       "    </tr>\n",
       "    <tr>\n",
       "      <th>4</th>\n",
       "      <td>8866</td>\n",
       "      <td>bonus-410-spring-2018</td>\n",
       "      <td>Bonus 410 Spring 2018</td>\n",
       "      <td>A competition to help you start using the trai...</td>\n",
       "      <td>InClass</td>\n",
       "      <td>24237.0</td>\n",
       "      <td>NaN</td>\n",
       "      <td>1</td>\n",
       "      <td>NaN</td>\n",
       "      <td>2018-03-14 18:08:58</td>\n",
       "      <td>...</td>\n",
       "      <td>False</td>\n",
       "      <td>False</td>\n",
       "      <td>NaN</td>\n",
       "      <td>0.0</td>\n",
       "      <td>0</td>\n",
       "      <td>0.0</td>\n",
       "      <td>False</td>\n",
       "      <td>11</td>\n",
       "      <td>11</td>\n",
       "      <td>66</td>\n",
       "    </tr>\n",
       "  </tbody>\n",
       "</table>\n",
       "<p>5 rows × 42 columns</p>\n",
       "</div>"
      ],
      "text/plain": [
       "     Id                               Slug  \\\n",
       "0  2408                     Eurovision2010   \n",
       "1  8910  blg-454e-term-project-competition   \n",
       "2  8916                            test-xx   \n",
       "3  8933                  recsys-20181-cfmr   \n",
       "4  8866              bonus-410-spring-2018   \n",
       "\n",
       "                                               Title  \\\n",
       "0                         Forecast Eurovision Voting   \n",
       "1                  BLG 454E Term Project Competition   \n",
       "2                                            test-xx   \n",
       "3  RecSys 2018/1: Collaborative Movie Recommendation   \n",
       "4                              Bonus 410 Spring 2018   \n",
       "\n",
       "                                            Subtitle HostSegmentTitle  \\\n",
       "0  This competition requires contestants to forec...         Featured   \n",
       "1  ITU Computer and Informatics Faculty, BLG 454E...          InClass   \n",
       "2                                     this is a test          InClass   \n",
       "3                  Predict users' ratings for movies          InClass   \n",
       "4  A competition to help you start using the trai...          InClass   \n",
       "\n",
       "   ForumId  OrganizationId  CompetitionTypeId HostName         EnabledDate  \\\n",
       "0      2.0             NaN                  1      NaN 2010-04-07 07:57:43   \n",
       "1  24780.0             NaN                  1      NaN 2018-03-17 19:08:56   \n",
       "2  24867.0             NaN                  1      NaN 2018-03-18 11:52:38   \n",
       "3  25077.0             NaN                  1      NaN 2018-03-19 15:34:50   \n",
       "4  24237.0             NaN                  1      NaN 2018-03-14 18:08:58   \n",
       "\n",
       "         ...        EnableSubmissionModelHashes  \\\n",
       "0        ...                              False   \n",
       "1        ...                              False   \n",
       "2        ...                              False   \n",
       "3        ...                              False   \n",
       "4        ...                              False   \n",
       "\n",
       "  EnableSubmissionModelAttachments RewardType RewardQuantity NumPrizes  \\\n",
       "0                            False        USD         1000.0         1   \n",
       "1                            False        NaN            0.0         0   \n",
       "2                            False        NaN            0.0         0   \n",
       "3                            False        NaN            0.0         0   \n",
       "4                            False        NaN            0.0         0   \n",
       "\n",
       "   UserRankMultiplier  CanQualifyTiers  TotalTeams  TotalCompetitors  \\\n",
       "0                 1.0            False          22                25   \n",
       "1                 0.0            False          29                65   \n",
       "2                 0.0            False           0                 0   \n",
       "3                 0.0            False          27                28   \n",
       "4                 0.0            False          11                11   \n",
       "\n",
       "   TotalSubmissions  \n",
       "0                22  \n",
       "1               658  \n",
       "2                 7  \n",
       "3               737  \n",
       "4                66  \n",
       "\n",
       "[5 rows x 42 columns]"
      ]
     },
     "execution_count": 5,
     "metadata": {},
     "output_type": "execute_result"
    }
   ],
   "source": [
    "# Load competitions data (takes a little while).\n",
    "competitions = pd.read_csv(path_to_data / 'Competitions.csv', \n",
    "                           parse_dates=['EnabledDate', 'DeadlineDate', 'ProhibitNewEntrantsDeadlineDate'], \n",
    "                           dayfirst=False)\n",
    "competitions.head()"
   ]
  },
  {
   "cell_type": "markdown",
   "metadata": {},
   "source": [
    "# Visualisation"
   ]
  },
  {
   "cell_type": "code",
   "execution_count": 6,
   "metadata": {},
   "outputs": [],
   "source": [
    "import matplotlib.pyplot as plt  # Quick plotting.\n",
    "import seaborn  # Make plotting better.\n",
    "%matplotlib inline"
   ]
  },
  {
   "cell_type": "markdown",
   "metadata": {},
   "source": [
    "The following plot shows the number of new users on each day as a time-series."
   ]
  },
  {
   "cell_type": "code",
   "execution_count": 7,
   "metadata": {},
   "outputs": [
    {
     "data": {
      "text/plain": [
       "<matplotlib.axes._subplots.AxesSubplot at 0x1106a3d30>"
      ]
     },
     "execution_count": 7,
     "metadata": {},
     "output_type": "execute_result"
    },
    {
     "data": {
      "image/png": "[encoded data removed]",
      "text/plain": [
       "<Figure size 1080x504 with 1 Axes>"
      ]
     },
     "metadata": {},
     "output_type": "display_data"
    }
   ],
   "source": [
    "# Group by RegisterDate and count unique Id values.\n",
    "new_users_per_day = users.groupby('RegisterDate').agg({'Id': 'nunique'}).rename({'Id': 'NewUsers'}, axis=1)\n",
    "\n",
    "new_users_per_day.plot(title='New users per day', figsize=(15, 7), grid=True, legend=False)"
   ]
  },
  {
   "cell_type": "markdown",
   "metadata": {},
   "source": [
    "The rate of users signing has been accelerating since Kaggles inception in 2010. In the latter stages there is evidence of seasonal effects, with a noticeable peak in either half of the year. Kaggle could use this information to anticipate future demand on their service and plan appropriately."
   ]
  },
  {
   "cell_type": "markdown",
   "metadata": {},
   "source": [
    "The next figure shows a bar chart of the median number of competitors for different reward types. Note that the average is used rather than the sum to control for the differing frequencies of competitions with each reward type (i.e. the vast majority of competitions offer cash rewards, which drives up the number of competitors); the median is used rather than the median to control for certain competitons (such as the introductory/tutorial competitions) having extremely large numbers of competitors."
   ]
  },
  {
   "cell_type": "code",
   "execution_count": 8,
   "metadata": {},
   "outputs": [
    {
     "data": {
      "text/plain": [
       "Text(0,0.5,'Median number of competitors')"
      ]
     },
     "execution_count": 8,
     "metadata": {},
     "output_type": "execute_result"
    },
    {
     "data": {
      "image/png": "[encoded data removed]",
      "text/plain": [
       "<Figure size 1080x504 with 1 Axes>"
      ]
     },
     "metadata": {},
     "output_type": "display_data"
    }
   ],
   "source": [
    "# Replace USD & EUR --> Cash.\n",
    "competitions.replace(['USD', 'EUR'], 'Cash', inplace=True)\n",
    "\n",
    "# Median number of competitors for each reward type.\n",
    "rewardtype_vs_competitors = competitions.groupby('RewardType').agg({'TotalCompetitors': 'median'})\n",
    "rewardtype_vs_competitors.sort_values(by='TotalCompetitors', ascending=False, inplace=True)\n",
    "\n",
    "ax = rewardtype_vs_competitors.plot(title='Competitors by reward type', \n",
    "                                    figsize=(15, 7), grid=True, legend=False, kind='bar')\n",
    "ax.set_xlabel('Reward type')\n",
    "ax.set_ylabel('Median number of competitors')"
   ]
  },
  {
   "cell_type": "markdown",
   "metadata": {},
   "source": [
    "Apparently, Kaggle competitors are much more likely to compete when there are jobs on offer rather than other reward types. Sadly it would appear the worst reward for increasing the number of competitors is knowledge. This information could be useful for competition organizers to understand the best way of motivating people to participate."
   ]
  },
  {
   "cell_type": "code",
   "execution_count": null,
   "metadata": {},
   "outputs": [],
   "source": []
  }
 ],
 "metadata": {
  "kernelspec": {
   "display_name": "Python 3",
   "language": "python",
   "name": "python3"
  },
  "language_info": {
   "codemirror_mode": {
    "name": "ipython",
    "version": 3
   },
   "file_extension": ".py",
   "mimetype": "text/x-python",
   "name": "python",
   "nbconvert_exporter": "python",
   "pygments_lexer": "ipython3",
   "version": "3.6.5"
  }
 },
 "nbformat": 4,
 "nbformat_minor": 1
}
